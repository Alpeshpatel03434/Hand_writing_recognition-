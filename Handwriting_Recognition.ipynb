{
  "nbformat": 4,
  "nbformat_minor": 0,
  "metadata": {
    "kernelspec": {
      "display_name": "Python 3",
      "language": "python",
      "name": "python3"
    },
    "language_info": {
      "codemirror_mode": {
        "name": "ipython",
        "version": 3
      },
      "file_extension": ".py",
      "mimetype": "text/x-python",
      "name": "python",
      "nbconvert_exporter": "python",
      "pygments_lexer": "ipython3",
      "version": "3.8.7"
    },
    "colab": {
      "name": "Handwriting Recognition.ipynb",
      "provenance": [],
      "collapsed_sections": [],
      "include_colab_link": true
    }
  },
  "cells": [
    {
      "cell_type": "markdown",
      "metadata": {
        "id": "view-in-github",
        "colab_type": "text"
      },
      "source": [
        "<a href=\"https://colab.research.google.com/github/Alpeshpatel03434/Hand_writing_recognition-/blob/main/Handwriting_Recognition.ipynb\" target=\"_parent\"><img src=\"https://colab.research.google.com/assets/colab-badge.svg\" alt=\"Open In Colab\"/></a>"
      ]
    },
    {
      "cell_type": "markdown",
      "metadata": {
        "id": "BSaOq6YyD25a"
      },
      "source": [
        "<h1><center>Handwriting Recognition</center></h1>"
      ]
    },
    {
      "cell_type": "markdown",
      "metadata": {
        "id": "HLdLIcunD25h"
      },
      "source": [
        "My personal dataset create for Handwriting Recognition model.  It's avalible in link\n",
        "https://drive.google.com/file/d/1tMtaEV-47tj3jd1CWy2eOgFaKAh2VQPa/view?usp=sharing\n",
        "\n",
        "Image_capture folders link \n",
        "https://drive.google.com/drive/folders/1_oafoMqF07LwrYHAhIyoNQBgcQBtQs30?usp=sharing\n"
      ]
    },
    {
      "cell_type": "markdown",
      "metadata": {
        "id": "B5G2qdDSD25i"
      },
      "source": [
        "Using pyscreenshot module screenshort capture after some few second delay using time module. If one screensshort  capture Windows sound can notify us. After 100 sample of each digit images capture then create dataset. And train our Handwriting Recognition model. Using Paint software we can write digit and test our model."
      ]
    },
    {
      "cell_type": "markdown",
      "metadata": {
        "id": "ka04MHp7D25j"
      },
      "source": [
        "**The modules are use in Handwriting Recognition model train**\n",
        "<p>pyscreenshot, winsound, time<p/>\n",
        "<p>Open CV<p/>\n",
        "<p>joblib<p/>\n",
        "<p>Sklearn<p/>\n",
        "<p>pandas</p>\n",
        "<p>numpy</p>\n",
        "<p>matplotlib<p/>\n",
        "<p>csv</p>\n",
        "<p>glob<p/>"
      ]
    },
    {
      "cell_type": "markdown",
      "metadata": {
        "id": "8zz2bBY4D25j"
      },
      "source": [
        "## import library"
      ]
    },
    {
      "cell_type": "code",
      "metadata": {
        "id": "58AWwkZnD25k"
      },
      "source": [
        "import pyscreenshot as ImageGrab\n",
        "import time\n",
        "import winsound\n",
        "import joblib\n",
        "import cv2\n",
        "import numpy as np\n",
        "import matplotlib.pyplot as plt\n",
        "%matplotlib inline\n",
        "import cv2"
      ],
      "execution_count": null,
      "outputs": []
    },
    {
      "cell_type": "markdown",
      "metadata": {
        "id": "fch7qVteD25k"
      },
      "source": [
        "image_capture foder list od directory avalible 0, 1, 2, 3, 4, 5, 6, 7, 8, 9"
      ]
    },
    {
      "cell_type": "markdown",
      "metadata": {
        "id": "Osraw5ekD25l"
      },
      "source": [
        "0 Degit image capture"
      ]
    },
    {
      "cell_type": "code",
      "metadata": {
        "id": "f_VWFaZCD25l",
        "outputId": "57fa5cfa-20fd-4006-d7c0-0f95cb868c47"
      },
      "source": [
        "image_folder = \"Image_capture/0/\"\n",
        "\n",
        "for i in range(0, 100):\n",
        "    time.sleep(8)\n",
        "    winsound.PlaySound(\"*\", winsound.SND_ALIAS)\n",
        "    img = ImageGrab.grab(bbox=(60, 170, 400, 550))\n",
        "    print(\"saved....\")\n",
        "    img.save(image_folder+str(i)+'.png')\n",
        "    print(\"clear screen now .....\"+str(i))"
      ],
      "execution_count": null,
      "outputs": [
        {
          "output_type": "stream",
          "text": [
            "saved....\n",
            "clear screen now .....0\n",
            "saved....\n",
            "clear screen now .....1\n",
            "saved....\n",
            "clear screen now .....2\n",
            "saved....\n",
            "clear screen now .....3\n",
            "saved....\n",
            "clear screen now .....4\n",
            "saved....\n",
            "clear screen now .....5\n",
            "saved....\n",
            "clear screen now .....6\n",
            "saved....\n",
           "..............\n",
            "...............\n",
            "saved....\n",
            "clear screen now .....95\n",
            "saved....\n",
            "clear screen now .....96\n",
            "saved....\n",
            "clear screen now .....97\n",
            "saved....\n",
            "clear screen now .....98\n",
            "saved....\n",
            "clear screen now .....99\n"
          ],
          "name": "stdout"
        }
      ]
    },
    {
      "cell_type": "markdown",
      "metadata": {
        "id": "6XJx__gpD25m"
      },
      "source": [
        "1 Degit image capture"
      ]
    },
    {
      "cell_type": "code",
      "metadata": {
        "id": "ZzIxwnLED25m",
        "outputId": "5060a7f0-d47f-4f7c-cd13-0bd27d38c1bb"
      },
      "source": [
        "image_folder = \"Image_capture/1/\"\n",
        "\n",
        "for i in range(0, 100):\n",
        "    time.sleep(8)\n",
        "    winsound.PlaySound(\"*\", winsound.SND_ALIAS)\n",
        "    img = ImageGrab.grab(bbox=(60, 170, 400, 550))\n",
        "    print(\"saved....\")\n",
        "    img.save(image_folder+str(i)+'.png')\n",
        "    print(\"clear screen now .....\"+str(i))"
      ],
      "execution_count": null,
      "outputs": [
        {
          "output_type": "stream",
          "text": [
            "saved....\n",
            "clear screen now .....0\n",
            "saved....\n",
            "clear screen now .....1\n",
            "saved....\n",
            "clear screen now .....2\n",
            "saved....\n",
            "clear screen now .....3\n",
            "saved....\n",
            "clear screen now .....4\n",
            "saved....\n",
            "clear screen now .....5\n",
            "saved....\n",
            "clear screen now .....6\n",
            "saved....\n",
            "..............\n",
            "...............\n",
            "saved....\n",
            "clear screen now .....95\n",
            "saved....\n",
            "clear screen now .....96\n",
            "saved....\n",
            "clear screen now .....97\n",
            "saved....\n",
            "clear screen now .....98\n",
            "saved....\n",
            "clear screen now .....99\n"
          ],
          "name": "stdout"
        }
      ]
    },
    {
      "cell_type": "markdown",
      "metadata": {
        "id": "4S1RA-jXD25n"
      },
      "source": [
        "2 Degit image capture"
      ]
    },
    {
      "cell_type": "code",
      "metadata": {
        "id": "Sv9GR01lD25n",
        "outputId": "f071e575-4e59-419c-96bc-d035d5193a75"
      },
      "source": [
        "image_folder = \"Image_capture/2/\"\n",
        "\n",
        "for i in range(0, 100):\n",
        "    time.sleep(8)\n",
        "    winsound.PlaySound(\"*\", winsound.SND_ALIAS)\n",
        "    img = ImageGrab.grab(bbox=(60, 170, 400, 550))\n",
        "    print(\"saved....\")\n",
        "    img.save(image_folder+str(i)+'.png')\n",
        "    print(\"clear screen now .....\"+str(i))"
      ],
      "execution_count": null,
      "outputs": [
        {
          "output_type": "stream",
          "text": [
            "saved....\n",
            "clear screen now .....0\n",
            "saved....\n",
            "clear screen now .....1\n",
            "saved....\n",
            "clear screen now .....2\n",
            "saved....\n",
            "clear screen now .....3\n",
            "saved....\n",
            "clear screen now .....4\n",
            "saved....\n",
            "clear screen now .....5\n",
            "saved....\n",
            "clear screen now .....6\n",
            "saved....\n",
           "..............\n",
            "...............\n",
            "clear screen now .....95\n",
            "saved....\n",
            "clear screen now .....96\n",
            "saved....\n",
            "clear screen now .....97\n",
            "saved....\n",
            "clear screen now .....98\n",
            "saved....\n",
            "clear screen now .....99\n"
          ],
          "name": "stdout"
        }
      ]
    },
    {
      "cell_type": "markdown",
      "metadata": {
        "id": "D1C9sftWD25o"
      },
      "source": [
        "3  Degit image capture"
      ]
    },
    {
      "cell_type": "code",
      "metadata": {
        "id": "QfUJEr7lD25o",
        "outputId": "588998f3-27f4-4b7a-cb88-f0eefe27515d"
      },
      "source": [
        "image_folder = \"Image_capture/3/\"\n",
        "\n",
        "for i in range(0, 100):\n",
        "    time.sleep(8)\n",
        "    img = ImageGrab.grab(bbox=(60, 170, 400, 550))\n",
        "    winsound.PlaySound(\"*\", winsound.SND_ALIAS)\n",
        "    print(\"saved....\")\n",
        "    img.save(image_folder+str(i)+'.png')\n",
        "    print(\"clear screen now .....\"+str(i))"
      ],
      "execution_count": null,
      "outputs": [
        {
          "output_type": "stream",
          "text": [
            "saved....\n",
            "clear screen now .....0\n",
            "saved....\n",
            "clear screen now .....1\n",
            "saved....\n",
            "clear screen now .....2\n",
            "saved....\n",
            "clear screen now .....3\n",
            "saved....\n",
            "clear screen now .....4\n",
            "saved....\n",
            "clear screen now .....5\n",
            "saved....\n",
            "clear screen now .....6\n",
            "saved....\n",
           "..............\n",
            "...............\n",
            "saved....\n",
            "clear screen now .....95\n",
            "saved....\n",
            "clear screen now .....96\n",
            "saved....\n",
            "clear screen now .....97\n",
            "saved....\n",
            "clear screen now .....98\n",
            "saved....\n",
            "clear screen now .....99\n"
          ],
          "name": "stdout"
        }
      ]
    },
    {
      "cell_type": "markdown",
      "metadata": {
        "id": "88JWNRkvD25o"
      },
      "source": [
        "4  Degit image capture"
      ]
    },
    {
      "cell_type": "code",
      "metadata": {
        "id": "xYqDvfGoD25o",
        "outputId": "10d3af00-6d75-4207-bf8f-e7b835ab587e"
      },
      "source": [
        "image_folder = \"Image_capture/4/\"\n",
        "\n",
        "for i in range(0, 100):\n",
        "    time.sleep(8)\n",
        "    winsound.PlaySound(\"*\", winsound.SND_ALIAS)\n",
        "    img = ImageGrab.grab(bbox=(60, 170, 400, 550))\n",
        "    print(\"saved....\")\n",
        "    img.save(image_folder+str(i)+'.png')\n",
        "    print(\"clear screen now .....\"+str(i))"
      ],
      "execution_count": null,
      "outputs": [
        {
          "output_type": "stream",
          "text": [
            "saved....\n",
            "clear screen now .....0\n",
            "saved....\n",
            "clear screen now .....1\n",
            "saved....\n",
            "clear screen now .....2\n",
            "saved....\n",
            "clear screen now .....3\n",
            "saved....\n",
            "clear screen now .....4\n",
            "saved....\n",
            "clear screen now .....5\n",
            "saved....\n",
            "clear screen now .....6\n",
            "saved....\n",
           "..............\n",
            "...............\n",
            "clear screen now .....95\n",
            "saved....\n",
            "clear screen now .....96\n",
            "saved....\n",
            "clear screen now .....97\n",
            "saved....\n",
            "clear screen now .....98\n",
            "saved....\n",
            "clear screen now .....99\n"
          ],
          "name": "stdout"
        }
      ]
    },
    {
      "cell_type": "markdown",
      "metadata": {
        "id": "G_a7BHPUD25p"
      },
      "source": [
        "6 Degit image capture"
      ]
    },
    {
      "cell_type": "code",
      "metadata": {
        "id": "8uKV0WwYD25q",
        "outputId": "3ab7dfde-7baa-4ca8-ab6d-86bc265da3df"
      },
      "source": [
        "image_folder = \"Image_capture/6/\"\n",
        "\n",
        "for i in range(0, 100):\n",
        "    time.sleep(8)\n",
        "    winsound.PlaySound(\"*\", winsound.SND_ALIAS)\n",
        "    img = ImageGrab.grab(bbox=(60, 170, 400, 550))\n",
        "    print(\"saved....\")\n",
        "    img.save(image_folder+str(i)+'.png')\n",
        "    print(\"clear screen now .....\"+str(i))"
      ],
      "execution_count": null,
      "outputs": [
        {
          "output_type": "stream",
          "text": [
            "saved....\n",
            "clear screen now .....0\n",
            "saved....\n",
            "clear screen now .....1\n",
            "saved....\n",
            "clear screen now .....2\n",
            "saved....\n",
            "clear screen now .....3\n",
            "saved....\n",
            "clear screen now .....4\n",
            "saved....\n",
            "clear screen now .....5\n",
            "saved....\n",
            "clear screen now .....6\n",
            "saved....\n",
           "..............\n",
            "...............\n",
            "clear screen now .....95\n",
            "saved....\n",
            "clear screen now .....96\n",
            "saved....\n",
            "clear screen now .....97\n",
            "saved....\n",
            "clear screen now .....98\n",
            "saved....\n",
            "clear screen now .....99\n"
          ],
          "name": "stdout"
        }
      ]
    },
    {
      "cell_type": "markdown",
      "metadata": {
        "id": "rOVgcR31D25q"
      },
      "source": [
        "7 Degit image capture"
      ]
    },
    {
      "cell_type": "code",
      "metadata": {
        "scrolled": true,
        "id": "1VPH6f0_D25q",
        "outputId": "b5381fee-7ca3-4fe3-b2ff-5933c2ff6693"
      },
      "source": [
        "image_folder = \"Image_capture/7/\"\n",
        "\n",
        "for i in range(0, 100):\n",
        "    time.sleep(8)\n",
        "    winsound.PlaySound(\"*\", winsound.SND_ALIAS)\n",
        "    img = ImageGrab.grab(bbox=(60, 170, 400, 550))\n",
        "    print(\"saved....\")\n",
        "    img.save(image_folder+str(i)+'.png')\n",
        "    print(\"clear screen now .....\"+str(i))"
      ],
      "execution_count": null,
      "outputs": [
        {
          "output_type": "stream",
          "text": [
            "saved....\n",
            "clear screen now .....0\n",
            "saved....\n",
            "clear screen now .....1\n",
            "saved....\n",
            "clear screen now .....2\n",
            "saved....\n",
            "clear screen now .....3\n",
            "saved....\n",
            "clear screen now .....4\n",
            "saved....\n",
            "clear screen now .....5\n",
            "saved....\n",
            "clear screen now .....6\n",
            "saved....\n",
           "..............\n",
            "...............\n",
            "clear screen now .....95\n",
            "saved....\n",
            "clear screen now .....96\n",
            "saved....\n",
            "clear screen now .....97\n",
            "saved....\n",
            "clear screen now .....98\n",
            "saved....\n",
            "clear screen now .....99\n"
          ],
          "name": "stdout"
        }
      ]
    },
    {
      "cell_type": "markdown",
      "metadata": {
        "id": "NWsEdS9iD25r"
      },
      "source": [
        "8 Degit image capture"
      ]
    },
    {
      "cell_type": "code",
      "metadata": {
        "id": "_KoGviiWD25r",
        "outputId": "0a5e23bc-a089-4868-abbb-e8921abac3ae"
      },
      "source": [
        "image_folder = \"Image_capture/8/\"\n",
        "\n",
        "for i in range(0, 100):\n",
        "    time.sleep(8)\n",
        "    winsound.PlaySound(\"*\", winsound.SND_ALIAS)\n",
        "    img = ImageGrab.grab(bbox=(60, 170, 400, 550))\n",
        "    print(\"saved....\")\n",
        "    img.save(image_folder+str(i)+'.png')\n",
        "    print(\"clear screen now .....\"+str(i))"
      ],
      "execution_count": null,
      "outputs": [
        {
          "output_type": "stream",
          "text": [
            "saved....\n",
            "clear screen now .....0\n",
            "saved....\n",
            "clear screen now .....1\n",
            "saved....\n",
            "clear screen now .....2\n",
            "saved....\n",
            "clear screen now .....3\n",
            "saved....\n",
            "clear screen now .....4\n",
            "saved....\n",
            "clear screen now .....5\n",
            "saved....\n",
            "clear screen now .....6\n",
            "saved....\n",
           "..............\n",
            "...............\n",
            "clear screen now .....95\n",
            "saved....\n",
            "clear screen now .....96\n",
            "saved....\n",
            "clear screen now .....97\n",
            "saved....\n",
            "clear screen now .....98\n",
            "saved....\n",
            "clear screen now .....99\n"
          ],
          "name": "stdout"
        }
      ]
    },
    {
      "cell_type": "markdown",
      "metadata": {
        "id": "CM0MEUw_D25r"
      },
      "source": [
        "9 Degit image capture"
      ]
    },
    {
      "cell_type": "code",
      "metadata": {
        "id": "mySWQ-DYD25r",
        "outputId": "454e1cd2-b0ae-432f-e901-6d4a0f8bfc5b"
      },
      "source": [
        "image_folder = \"Image_capture/9/\"\n",
        "\n",
        "for i in range(0, 100):\n",
        "    time.sleep(8)\n",
        "    winsound.PlaySound(\"*\", winsound.SND_ALIAS)\n",
        "    img = ImageGrab.grab(bbox=(60, 170, 400, 550))\n",
        "    print(\"saved....\")\n",
        "    #img.save(image_folder+str(i)+'.png')\n",
        "    print(\"clear screen now .....\"+str(i))"
      ],
      "execution_count": null,
      "outputs": [
        {
          "output_type": "stream",
          "text": [
            "saved....\n",
            "clear screen now .....0\n",
            "saved....\n",
            "clear screen now .....1\n",
            "saved....\n",
            "clear screen now .....2\n",
            "saved....\n",
            "clear screen now .....3\n",
            "saved....\n",
            "clear screen now .....4\n",
            "saved....\n",
            "clear screen now .....5\n",
            "saved....\n",
            "clear screen now .....6\n",
            "saved....\n",
           "..............\n",
            "...............\n",
            "clear screen now .....95\n",
            "saved....\n",
            "clear screen now .....96\n",
            "saved....\n",
            "clear screen now .....97\n",
            "saved....\n",
            "clear screen now .....98\n",
            "saved....\n",
            "clear screen now .....99\n"
          ],
          "name": "stdout"
        }
      ]
    },
    {
      "cell_type": "markdown",
      "metadata": {
        "id": "yxw4Fjf1D25s"
      },
      "source": [
        "## Dataset Create and Image convert Pixal value"
      ]
    },
    {
      "cell_type": "code",
      "metadata": {
        "id": "gR8Ne4raD25s"
      },
      "source": [
        "import cv2\n",
        "import csv\n",
        "import glob\n",
        "\n",
        "header = [\"label\"]\n",
        "for i in range(0, 784):\n",
        "    header.append(\"pixal\"+str(i))\n",
        "with open(\"dataset.csv\", 'a') as f:\n",
        "    writer =  csv.writer(f)\n",
        "    writer.writerow(header)\n",
        "    \n",
        "for label in range(10):\n",
        "    dirlist = glob.glob(\"Image_capture/\"+str(label)+\"/*.png\")\n",
        "    \n",
        "    for img_path in dirlist:\n",
        "        im = cv2.imread(img_path)\n",
        "        im_gray = cv2.cvtColor(im, cv2.COLOR_BGR2GRAY)\n",
        "        im_gray = cv2.GaussianBlur(im_gray, (15, 15), 0)\n",
        "        ro_in = cv2.resize(im_gray, (28, 28), interpolation = cv2.INTER_AREA)\n",
        "        \n",
        "        data = []\n",
        "        data.append(label)\n",
        "        rows, cols = ro_in.shape\n",
        "        \n",
        "        for i in range(rows):\n",
        "            for j in range(cols):\n",
        "                k = ro_in[i, j]\n",
        "                if k>100:\n",
        "                    k = 1\n",
        "                else:\n",
        "                    k = 0\n",
        "                data.append(k)\n",
        "        with open(\"dataset.csv\", \"a\") as f:\n",
        "            writer = csv.writer(f)\n",
        "            writer.writerow(data)"
      ],
      "execution_count": null,
      "outputs": []
    },
    {
      "cell_type": "markdown",
      "metadata": {
        "id": "eNG1feTfD25s"
      },
      "source": [
        "The shuffle() method takes a sequence (list, string, or tuple) and reorganize the order of the items."
      ]
    },
    {
      "cell_type": "code",
      "metadata": {
        "id": "ZmNraF9xD25t",
        "outputId": "64f0f22e-e2be-440f-938e-f4eb492a66a2"
      },
      "source": [
        "import pandas as pd\n",
        "from sklearn.utils import shuffle\n",
        "\n",
        "df = pd.read_csv(\"dataset.csv\")\n",
        "data = shuffle(df)\n",
        "data"
      ],
      "execution_count": null,
      "outputs": [
        {
          "output_type": "execute_result",
          "data": {
            "text/html": [
              "<div>\n",
              "<style scoped>\n",
              "    .dataframe tbody tr th:only-of-type {\n",
              "        vertical-align: middle;\n",
              "    }\n",
              "\n",
              "    .dataframe tbody tr th {\n",
              "        vertical-align: top;\n",
              "    }\n",
              "\n",
              "    .dataframe thead th {\n",
              "        text-align: right;\n",
              "    }\n",
              "</style>\n",
              "<table border=\"1\" class=\"dataframe\">\n",
              "  <thead>\n",
              "    <tr style=\"text-align: right;\">\n",
              "      <th></th>\n",
              "      <th>label</th>\n",
              "      <th>pixal0</th>\n",
              "      <th>pixal1</th>\n",
              "      <th>pixal2</th>\n",
              "      <th>pixal3</th>\n",
              "      <th>pixal4</th>\n",
              "      <th>pixal5</th>\n",
              "      <th>pixal6</th>\n",
              "      <th>pixal7</th>\n",
              "      <th>pixal8</th>\n",
              "      <th>...</th>\n",
              "      <th>pixal774</th>\n",
              "      <th>pixal775</th>\n",
              "      <th>pixal776</th>\n",
              "      <th>pixal777</th>\n",
              "      <th>pixal778</th>\n",
              "      <th>pixal779</th>\n",
              "      <th>pixal780</th>\n",
              "      <th>pixal781</th>\n",
              "      <th>pixal782</th>\n",
              "      <th>pixal783</th>\n",
              "    </tr>\n",
              "  </thead>\n",
              "  <tbody>\n",
              "    <tr>\n",
              "      <th>956</th>\n",
              "      <td>9</td>\n",
              "      <td>0</td>\n",
              "      <td>0</td>\n",
              "      <td>0</td>\n",
              "      <td>0</td>\n",
              "      <td>0</td>\n",
              "      <td>0</td>\n",
              "      <td>0</td>\n",
              "      <td>0</td>\n",
              "      <td>0</td>\n",
              "      <td>...</td>\n",
              "      <td>0</td>\n",
              "      <td>0</td>\n",
              "      <td>0</td>\n",
              "      <td>0</td>\n",
              "      <td>0</td>\n",
              "      <td>0</td>\n",
              "      <td>0</td>\n",
              "      <td>0</td>\n",
              "      <td>0</td>\n",
              "      <td>0</td>\n",
              "    </tr>\n",
              "    <tr>\n",
              "      <th>345</th>\n",
              "      <td>3</td>\n",
              "      <td>0</td>\n",
              "      <td>0</td>\n",
              "      <td>0</td>\n",
              "      <td>0</td>\n",
              "      <td>0</td>\n",
              "      <td>0</td>\n",
              "      <td>0</td>\n",
              "      <td>0</td>\n",
              "      <td>0</td>\n",
              "      <td>...</td>\n",
              "      <td>0</td>\n",
              "      <td>0</td>\n",
              "      <td>0</td>\n",
              "      <td>0</td>\n",
              "      <td>0</td>\n",
              "      <td>0</td>\n",
              "      <td>0</td>\n",
              "      <td>0</td>\n",
              "      <td>0</td>\n",
              "      <td>0</td>\n",
              "    </tr>\n",
              "    <tr>\n",
              "      <th>720</th>\n",
              "      <td>7</td>\n",
              "      <td>0</td>\n",
              "      <td>0</td>\n",
              "      <td>0</td>\n",
              "      <td>0</td>\n",
              "      <td>0</td>\n",
              "      <td>0</td>\n",
              "      <td>0</td>\n",
              "      <td>0</td>\n",
              "      <td>0</td>\n",
              "      <td>...</td>\n",
              "      <td>0</td>\n",
              "      <td>0</td>\n",
              "      <td>0</td>\n",
              "      <td>0</td>\n",
              "      <td>0</td>\n",
              "      <td>0</td>\n",
              "      <td>0</td>\n",
              "      <td>0</td>\n",
              "      <td>0</td>\n",
              "      <td>0</td>\n",
              "    </tr>\n",
              "    <tr>\n",
              "      <th>710</th>\n",
              "      <td>7</td>\n",
              "      <td>0</td>\n",
              "      <td>0</td>\n",
              "      <td>0</td>\n",
              "      <td>0</td>\n",
              "      <td>0</td>\n",
              "      <td>0</td>\n",
              "      <td>0</td>\n",
              "      <td>0</td>\n",
              "      <td>0</td>\n",
              "      <td>...</td>\n",
              "      <td>0</td>\n",
              "      <td>0</td>\n",
              "      <td>0</td>\n",
              "      <td>0</td>\n",
              "      <td>0</td>\n",
              "      <td>0</td>\n",
              "      <td>0</td>\n",
              "      <td>0</td>\n",
              "      <td>0</td>\n",
              "      <td>0</td>\n",
              "    </tr>\n",
              "    <tr>\n",
              "      <th>220</th>\n",
              "      <td>2</td>\n",
              "      <td>0</td>\n",
              "      <td>0</td>\n",
              "      <td>0</td>\n",
              "      <td>0</td>\n",
              "      <td>0</td>\n",
              "      <td>0</td>\n",
              "      <td>0</td>\n",
              "      <td>0</td>\n",
              "      <td>0</td>\n",
              "      <td>...</td>\n",
              "      <td>0</td>\n",
              "      <td>0</td>\n",
              "      <td>0</td>\n",
              "      <td>0</td>\n",
              "      <td>0</td>\n",
              "      <td>0</td>\n",
              "      <td>0</td>\n",
              "      <td>0</td>\n",
              "      <td>0</td>\n",
              "      <td>0</td>\n",
              "    </tr>\n",
              "    <tr>\n",
              "      <th>...</th>\n",
              "      <td>...</td>\n",
              "      <td>...</td>\n",
              "      <td>...</td>\n",
              "      <td>...</td>\n",
              "      <td>...</td>\n",
              "      <td>...</td>\n",
              "      <td>...</td>\n",
              "      <td>...</td>\n",
              "      <td>...</td>\n",
              "      <td>...</td>\n",
              "      <td>...</td>\n",
              "      <td>...</td>\n",
              "      <td>...</td>\n",
              "      <td>...</td>\n",
              "      <td>...</td>\n",
              "      <td>...</td>\n",
              "      <td>...</td>\n",
              "      <td>...</td>\n",
              "      <td>...</td>\n",
              "      <td>...</td>\n",
              "      <td>...</td>\n",
              "    </tr>\n",
              "    <tr>\n",
              "      <th>100</th>\n",
              "      <td>1</td>\n",
              "      <td>0</td>\n",
              "      <td>0</td>\n",
              "      <td>0</td>\n",
              "      <td>0</td>\n",
              "      <td>0</td>\n",
              "      <td>0</td>\n",
              "      <td>0</td>\n",
              "      <td>0</td>\n",
              "      <td>0</td>\n",
              "      <td>...</td>\n",
              "      <td>0</td>\n",
              "      <td>0</td>\n",
              "      <td>0</td>\n",
              "      <td>0</td>\n",
              "      <td>0</td>\n",
              "      <td>0</td>\n",
              "      <td>0</td>\n",
              "      <td>0</td>\n",
              "      <td>0</td>\n",
              "      <td>0</td>\n",
              "    </tr>\n",
              "    <tr>\n",
              "      <th>954</th>\n",
              "      <td>9</td>\n",
              "      <td>0</td>\n",
              "      <td>0</td>\n",
              "      <td>0</td>\n",
              "      <td>0</td>\n",
              "      <td>0</td>\n",
              "      <td>0</td>\n",
              "      <td>0</td>\n",
              "      <td>0</td>\n",
              "      <td>0</td>\n",
              "      <td>...</td>\n",
              "      <td>0</td>\n",
              "      <td>0</td>\n",
              "      <td>0</td>\n",
              "      <td>0</td>\n",
              "      <td>0</td>\n",
              "      <td>0</td>\n",
              "      <td>0</td>\n",
              "      <td>0</td>\n",
              "      <td>0</td>\n",
              "      <td>0</td>\n",
              "    </tr>\n",
              "    <tr>\n",
              "      <th>242</th>\n",
              "      <td>2</td>\n",
              "      <td>0</td>\n",
              "      <td>0</td>\n",
              "      <td>0</td>\n",
              "      <td>0</td>\n",
              "      <td>0</td>\n",
              "      <td>0</td>\n",
              "      <td>0</td>\n",
              "      <td>0</td>\n",
              "      <td>0</td>\n",
              "      <td>...</td>\n",
              "      <td>0</td>\n",
              "      <td>0</td>\n",
              "      <td>0</td>\n",
              "      <td>0</td>\n",
              "      <td>0</td>\n",
              "      <td>0</td>\n",
              "      <td>0</td>\n",
              "      <td>0</td>\n",
              "      <td>0</td>\n",
              "      <td>0</td>\n",
              "    </tr>\n",
              "    <tr>\n",
              "      <th>689</th>\n",
              "      <td>6</td>\n",
              "      <td>0</td>\n",
              "      <td>0</td>\n",
              "      <td>0</td>\n",
              "      <td>0</td>\n",
              "      <td>0</td>\n",
              "      <td>0</td>\n",
              "      <td>0</td>\n",
              "      <td>0</td>\n",
              "      <td>0</td>\n",
              "      <td>...</td>\n",
              "      <td>0</td>\n",
              "      <td>0</td>\n",
              "      <td>0</td>\n",
              "      <td>0</td>\n",
              "      <td>0</td>\n",
              "      <td>0</td>\n",
              "      <td>0</td>\n",
              "      <td>0</td>\n",
              "      <td>0</td>\n",
              "      <td>0</td>\n",
              "    </tr>\n",
              "    <tr>\n",
              "      <th>915</th>\n",
              "      <td>9</td>\n",
              "      <td>0</td>\n",
              "      <td>0</td>\n",
              "      <td>0</td>\n",
              "      <td>0</td>\n",
              "      <td>0</td>\n",
              "      <td>0</td>\n",
              "      <td>0</td>\n",
              "      <td>0</td>\n",
              "      <td>0</td>\n",
              "      <td>...</td>\n",
              "      <td>0</td>\n",
              "      <td>0</td>\n",
              "      <td>0</td>\n",
              "      <td>0</td>\n",
              "      <td>0</td>\n",
              "      <td>0</td>\n",
              "      <td>0</td>\n",
              "      <td>0</td>\n",
              "      <td>0</td>\n",
              "      <td>0</td>\n",
              "    </tr>\n",
              "  </tbody>\n",
              "</table>\n",
              "<p>1000 rows × 785 columns</p>\n",
              "</div>"
            ],
            "text/plain": [
              "     label  pixal0  pixal1  pixal2  pixal3  pixal4  pixal5  pixal6  pixal7  \\\n",
              "956      9       0       0       0       0       0       0       0       0   \n",
              "345      3       0       0       0       0       0       0       0       0   \n",
              "720      7       0       0       0       0       0       0       0       0   \n",
              "710      7       0       0       0       0       0       0       0       0   \n",
              "220      2       0       0       0       0       0       0       0       0   \n",
              "..     ...     ...     ...     ...     ...     ...     ...     ...     ...   \n",
              "100      1       0       0       0       0       0       0       0       0   \n",
              "954      9       0       0       0       0       0       0       0       0   \n",
              "242      2       0       0       0       0       0       0       0       0   \n",
              "689      6       0       0       0       0       0       0       0       0   \n",
              "915      9       0       0       0       0       0       0       0       0   \n",
              "\n",
              "     pixal8  ...  pixal774  pixal775  pixal776  pixal777  pixal778  pixal779  \\\n",
              "956       0  ...         0         0         0         0         0         0   \n",
              "345       0  ...         0         0         0         0         0         0   \n",
              "720       0  ...         0         0         0         0         0         0   \n",
              "710       0  ...         0         0         0         0         0         0   \n",
              "220       0  ...         0         0         0         0         0         0   \n",
              "..      ...  ...       ...       ...       ...       ...       ...       ...   \n",
              "100       0  ...         0         0         0         0         0         0   \n",
              "954       0  ...         0         0         0         0         0         0   \n",
              "242       0  ...         0         0         0         0         0         0   \n",
              "689       0  ...         0         0         0         0         0         0   \n",
              "915       0  ...         0         0         0         0         0         0   \n",
              "\n",
              "     pixal780  pixal781  pixal782  pixal783  \n",
              "956         0         0         0         0  \n",
              "345         0         0         0         0  \n",
              "720         0         0         0         0  \n",
              "710         0         0         0         0  \n",
              "220         0         0         0         0  \n",
              "..        ...       ...       ...       ...  \n",
              "100         0         0         0         0  \n",
              "954         0         0         0         0  \n",
              "242         0         0         0         0  \n",
              "689         0         0         0         0  \n",
              "915         0         0         0         0  \n",
              "\n",
              "[1000 rows x 785 columns]"
            ]
          },
          "metadata": {
            "tags": []
          },
          "execution_count": 13
        }
      ]
    },
    {
      "cell_type": "markdown",
      "metadata": {
        "id": "g1w1GixgD25t"
      },
      "source": [
        "## Split dependent and independent data"
      ]
    },
    {
      "cell_type": "code",
      "metadata": {
        "id": "CGAgIqbGD25t"
      },
      "source": [
        "X = data.drop([\"label\"], axis=1)\n",
        "y = data[\"label\"]"
      ],
      "execution_count": null,
      "outputs": []
    },
    {
      "cell_type": "code",
      "metadata": {
        "id": "pCVstxNUD25u",
        "outputId": "8e5e39c9-098c-476d-f268-3d9e8230c968"
      },
      "source": [
        "print(X)"
      ],
      "execution_count": null,
      "outputs": [
        {
          "output_type": "stream",
          "text": [
            "     pixal0  pixal1  pixal2  pixal3  pixal4  pixal5  pixal6  pixal7  pixal8  \\\n",
            "956       0       0       0       0       0       0       0       0       0   \n",
            "345       0       0       0       0       0       0       0       0       0   \n",
            "720       0       0       0       0       0       0       0       0       0   \n",
            "710       0       0       0       0       0       0       0       0       0   \n",
            "220       0       0       0       0       0       0       0       0       0   \n",
            "..      ...     ...     ...     ...     ...     ...     ...     ...     ...   \n",
            "100       0       0       0       0       0       0       0       0       0   \n",
            "954       0       0       0       0       0       0       0       0       0   \n",
            "242       0       0       0       0       0       0       0       0       0   \n",
            "689       0       0       0       0       0       0       0       0       0   \n",
            "915       0       0       0       0       0       0       0       0       0   \n",
            "\n",
            "     pixal9  ...  pixal774  pixal775  pixal776  pixal777  pixal778  pixal779  \\\n",
            "956       0  ...         0         0         0         0         0         0   \n",
            "345       0  ...         0         0         0         0         0         0   \n",
            "720       0  ...         0         0         0         0         0         0   \n",
            "710       0  ...         0         0         0         0         0         0   \n",
            "220       0  ...         0         0         0         0         0         0   \n",
            "..      ...  ...       ...       ...       ...       ...       ...       ...   \n",
            "100       0  ...         0         0         0         0         0         0   \n",
            "954       0  ...         0         0         0         0         0         0   \n",
            "242       0  ...         0         0         0         0         0         0   \n",
            "689       0  ...         0         0         0         0         0         0   \n",
            "915       0  ...         0         0         0         0         0         0   \n",
            "\n",
            "     pixal780  pixal781  pixal782  pixal783  \n",
            "956         0         0         0         0  \n",
            "345         0         0         0         0  \n",
            "720         0         0         0         0  \n",
            "710         0         0         0         0  \n",
            "220         0         0         0         0  \n",
            "..        ...       ...       ...       ...  \n",
            "100         0         0         0         0  \n",
            "954         0         0         0         0  \n",
            "242         0         0         0         0  \n",
            "689         0         0         0         0  \n",
            "915         0         0         0         0  \n",
            "\n",
            "[1000 rows x 784 columns]\n"
          ],
          "name": "stdout"
        }
      ]
    },
    {
      "cell_type": "code",
      "metadata": {
        "id": "IK0EupH4D25u",
        "outputId": "16e448db-e606-4777-da8d-1a35aa48bd6e"
      },
      "source": [
        "print(y)"
      ],
      "execution_count": null,
      "outputs": [
        {
          "output_type": "stream",
          "text": [
            "956    9\n",
            "345    3\n",
            "720    7\n",
            "710    7\n",
            "220    2\n",
            "      ..\n",
            "100    1\n",
            "954    9\n",
            "242    2\n",
            "689    6\n",
            "915    9\n",
            "Name: label, Length: 1000, dtype: int64\n"
          ],
          "name": "stdout"
        }
      ]
    },
    {
      "cell_type": "code",
      "metadata": {
        "id": "Qa8GvJZfD25v",
        "outputId": "f2744adb-c5b6-4029-81bf-cea36df76547"
      },
      "source": [
        "index = 0\n",
        "img = X.loc[index].values.reshape(28, 28)\n",
        "print(y[index])\n",
        "plt.imshow(img)"
      ],
      "execution_count": null,
      "outputs": [
        {
          "output_type": "stream",
          "text": [
            "0\n"
          ],
          "name": "stdout"
        },
        {
          "output_type": "execute_result",
          "data": {
            "text/plain": [
              "<matplotlib.image.AxesImage at 0x1ad7dca4190>"
            ]
          },
          "metadata": {
            "tags": []
          },
          "execution_count": 17
        },
        {
          "output_type": "display_data",
          "data": {
            "image/png": "[encoded data removed]",
            "text/plain": [
              "<Figure size 432x288 with 1 Axes>"
            ]
          },
          "metadata": {
            "tags": [],
            "needs_background": "light"
          }
        }
      ]
    },
    {
      "cell_type": "code",
      "metadata": {
        "id": "vKyivhjrD25v",
        "outputId": "8227130a-50fd-4019-b21a-e96de806e364"
      },
      "source": [
        "index = 314\n",
        "img = X.loc[index].values.reshape(28, 28)\n",
        "print(y[index])\n",
        "plt.imshow(img)"
      ],
      "execution_count": null,
      "outputs": [
        {
          "output_type": "stream",
          "text": [
            "3\n"
          ],
          "name": "stdout"
        },
        {
          "output_type": "execute_result",
          "data": {
            "text/plain": [
              "<matplotlib.image.AxesImage at 0x1ad7dd729d0>"
            ]
          },
          "metadata": {
            "tags": []
          },
          "execution_count": 18
        },
        {
          "output_type": "display_data",
          "data": {
            "image/png": "[encoded data removed]",
            "text/plain": [
              "<Figure size 432x288 with 1 Axes>"
            ]
          },
          "metadata": {
            "tags": [],
            "needs_background": "light"
          }
        }
      ]
    },
    {
      "cell_type": "code",
      "metadata": {
        "id": "wuKrMZnqD25v",
        "outputId": "f2623a2f-b2cd-4704-9595-5245cb80487f"
      },
      "source": [
        "index = 300\n",
        "img = X.loc[index].values.reshape(28, 28)\n",
        "print(y[index])\n",
        "plt.imshow(img)"
      ],
      "execution_count": null,
      "outputs": [
        {
          "output_type": "stream",
          "text": [
            "3\n"
          ],
          "name": "stdout"
        },
        {
          "output_type": "execute_result",
          "data": {
            "text/plain": [
              "<matplotlib.image.AxesImage at 0x1ad7ddc9850>"
            ]
          },
          "metadata": {
            "tags": []
          },
          "execution_count": 19
        },
        {
          "output_type": "display_data",
          "data": {
            "image/png": "[encoded data removed]",
            "text/plain": [
              "<Figure size 432x288 with 1 Axes>"
            ]
          },
          "metadata": {
            "tags": [],
            "needs_background": "light"
          }
        }
      ]
    },
    {
      "cell_type": "markdown",
      "metadata": {
        "id": "XL1LAjOzD25w"
      },
      "source": [
        "## Splitting the dataset into the Training set and Test set"
      ]
    },
    {
      "cell_type": "code",
      "metadata": {
        "id": "Av0thy_wD25w"
      },
      "source": [
        "from sklearn.model_selection import train_test_split\n",
        "\n",
        "X_train, X_test, y_train, y_test = train_test_split(X, y, test_size = 0.2)"
      ],
      "execution_count": null,
      "outputs": []
    },
    {
      "cell_type": "code",
      "metadata": {
        "id": "3M2a07B-D25w",
        "outputId": "940fc7d3-05fb-4082-c7ac-0ef5df3c605a"
      },
      "source": [
        "print(X_train)"
      ],
      "execution_count": null,
      "outputs": [
        {
          "output_type": "stream",
          "text": [
            "     pixal0  pixal1  pixal2  pixal3  pixal4  pixal5  pixal6  pixal7  pixal8  \\\n",
            "866       0       0       0       0       0       0       0       0       0   \n",
            "322       0       0       0       0       0       0       0       0       0   \n",
            "48        0       0       0       0       0       0       0       0       0   \n",
            "316       0       0       0       0       0       0       0       0       0   \n",
            "950       0       0       0       0       0       0       0       0       0   \n",
            "..      ...     ...     ...     ...     ...     ...     ...     ...     ...   \n",
            "513       0       0       0       0       0       0       0       0       0   \n",
            "580       0       0       0       0       0       0       0       0       0   \n",
            "680       0       0       0       0       0       0       0       0       0   \n",
            "469       0       0       0       0       0       0       0       0       0   \n",
            "560       0       0       0       0       0       0       0       0       0   \n",
            "\n",
            "     pixal9  ...  pixal774  pixal775  pixal776  pixal777  pixal778  pixal779  \\\n",
            "866       0  ...         0         0         0         0         0         0   \n",
            "322       0  ...         0         0         0         0         0         0   \n",
            "48        0  ...         0         0         0         0         0         0   \n",
            "316       0  ...         0         0         0         0         0         0   \n",
            "950       0  ...         0         0         0         0         0         0   \n",
            "..      ...  ...       ...       ...       ...       ...       ...       ...   \n",
            "513       0  ...         0         0         0         0         0         0   \n",
            "580       0  ...         0         0         0         0         0         0   \n",
            "680       0  ...         0         0         0         0         0         0   \n",
            "469       0  ...         0         0         0         0         0         0   \n",
            "560       0  ...         0         0         0         0         0         0   \n",
            "\n",
            "     pixal780  pixal781  pixal782  pixal783  \n",
            "866         0         0         0         0  \n",
            "322         0         0         0         0  \n",
            "48          0         0         0         0  \n",
            "316         0         0         0         0  \n",
            "950         0         0         0         0  \n",
            "..        ...       ...       ...       ...  \n",
            "513         0         0         0         0  \n",
            "580         0         0         0         0  \n",
            "680         0         0         0         0  \n",
            "469         0         0         0         0  \n",
            "560         0         0         0         0  \n",
            "\n",
            "[800 rows x 784 columns]\n"
          ],
          "name": "stdout"
        }
      ]
    },
    {
      "cell_type": "code",
      "metadata": {
        "id": "aNV7SlBOD25w",
        "outputId": "087f9b6d-0714-4efa-c83b-06a8c50b98fe"
      },
      "source": [
        "print(y_train)"
      ],
      "execution_count": null,
      "outputs": [
        {
          "output_type": "stream",
          "text": [
            "866    8\n",
            "322    3\n",
            "48     0\n",
            "316    3\n",
            "950    9\n",
            "      ..\n",
            "513    5\n",
            "580    5\n",
            "680    6\n",
            "469    4\n",
            "560    5\n",
            "Name: label, Length: 800, dtype: int64\n"
          ],
          "name": "stdout"
        }
      ]
    },
    {
      "cell_type": "code",
      "metadata": {
        "id": "5ivnPXx9D25x",
        "outputId": "d1dc773d-25ae-48d6-8fc5-9930318b28ba"
      },
      "source": [
        "print(X_test)"
      ],
      "execution_count": null,
      "outputs": [
        {
          "output_type": "stream",
          "text": [
            "     pixal0  pixal1  pixal2  pixal3  pixal4  pixal5  pixal6  pixal7  pixal8  \\\n",
            "354       0       0       0       0       0       0       0       0       0   \n",
            "807       0       0       0       0       0       0       0       0       0   \n",
            "967       0       0       0       0       0       0       0       0       0   \n",
            "1         0       0       0       0       0       0       0       0       0   \n",
            "776       0       0       0       0       0       0       0       0       0   \n",
            "..      ...     ...     ...     ...     ...     ...     ...     ...     ...   \n",
            "209       0       0       0       0       0       0       0       0       0   \n",
            "330       0       0       0       0       0       0       0       0       0   \n",
            "125       0       0       0       0       0       0       0       0       0   \n",
            "314       0       0       0       0       0       0       0       0       0   \n",
            "418       0       0       0       0       0       0       0       0       0   \n",
            "\n",
            "     pixal9  ...  pixal774  pixal775  pixal776  pixal777  pixal778  pixal779  \\\n",
            "354       0  ...         0         0         0         0         0         0   \n",
            "807       0  ...         0         0         0         0         0         0   \n",
            "967       0  ...         0         0         0         0         0         0   \n",
            "1         0  ...         0         0         0         0         0         0   \n",
            "776       0  ...         0         0         0         0         0         0   \n",
            "..      ...  ...       ...       ...       ...       ...       ...       ...   \n",
            "209       0  ...         0         0         0         0         0         0   \n",
            "330       0  ...         0         0         0         0         0         0   \n",
            "125       0  ...         0         0         0         0         0         0   \n",
            "314       0  ...         0         0         0         0         0         0   \n",
            "418       0  ...         0         0         0         0         0         0   \n",
            "\n",
            "     pixal780  pixal781  pixal782  pixal783  \n",
            "354         0         0         0         0  \n",
            "807         0         0         0         0  \n",
            "967         0         0         0         0  \n",
            "1           0         0         0         0  \n",
            "776         0         0         0         0  \n",
            "..        ...       ...       ...       ...  \n",
            "209         0         0         0         0  \n",
            "330         0         0         0         0  \n",
            "125         0         0         0         0  \n",
            "314         0         0         0         0  \n",
            "418         0         0         0         0  \n",
            "\n",
            "[200 rows x 784 columns]\n"
          ],
          "name": "stdout"
        }
      ]
    },
    {
      "cell_type": "code",
      "metadata": {
        "id": "xie6OL2fD25x",
        "outputId": "6c1ddc2e-e002-43fc-daa7-69d1ce3ef9b6"
      },
      "source": [
        "print(y_test)"
      ],
      "execution_count": null,
      "outputs": [
        {
          "output_type": "stream",
          "text": [
            "354    3\n",
            "807    8\n",
            "967    9\n",
            "1      0\n",
            "776    7\n",
            "      ..\n",
            "209    2\n",
            "330    3\n",
            "125    1\n",
            "314    3\n",
            "418    4\n",
            "Name: label, Length: 200, dtype: int64\n"
          ],
          "name": "stdout"
        }
      ]
    },
    {
      "cell_type": "markdown",
      "metadata": {
        "id": "BRZw0n0aD25x"
      },
      "source": [
        "## Train our Model using train dataset and save using joblib function"
      ]
    },
    {
      "cell_type": "code",
      "metadata": {
        "id": "Af705fgUD25y",
        "outputId": "e141f42e-34ca-423a-b5c8-ae7df7b17b4c"
      },
      "source": [
        "import joblib\n",
        "from sklearn.svm import SVC\n",
        "\n",
        "classifer = SVC(kernel=\"linear\", random_state = 6)\n",
        "classifer.fit(X_train, y_train)\n",
        "joblib.dump(classifer, \"model/digit_recognizer\")"
      ],
      "execution_count": null,
      "outputs": [
        {
          "output_type": "execute_result",
          "data": {
            "text/plain": [
              "['model/digit_recognizer']"
            ]
          },
          "metadata": {
            "tags": []
          },
          "execution_count": 25
        }
      ]
    },
    {
      "cell_type": "markdown",
      "metadata": {
        "id": "pNGSF2uKD25y"
      },
      "source": [
        "## Predict test set using our Model"
      ]
    },
    {
      "cell_type": "code",
      "metadata": {
        "id": "SdDAx9PHD25y"
      },
      "source": [
        "pred = classifer.predict(X_test)"
      ],
      "execution_count": null,
      "outputs": []
    },
    {
      "cell_type": "code",
      "metadata": {
        "id": "rrln-vobD25y",
        "outputId": "3b99ffdc-e51b-4507-add4-4db7d1de05e4"
      },
      "source": [
        "pred"
      ],
      "execution_count": null,
      "outputs": [
        {
          "output_type": "execute_result",
          "data": {
            "text/plain": [
              "array([7, 8, 9, 2, 7, 9, 5, 0, 7, 1, 0, 3, 2, 0, 6, 3, 6, 9, 3, 6, 1, 8,\n",
              "       9, 3, 7, 6, 2, 9, 3, 4, 0, 2, 8, 2, 6, 3, 0, 5, 7, 9, 5, 3, 5, 0,\n",
              "       3, 8, 3, 6, 7, 7, 6, 8, 4, 4, 8, 0, 8, 4, 7, 0, 3, 7, 4, 2, 0, 9,\n",
              "       3, 6, 1, 9, 2, 4, 0, 9, 1, 1, 1, 6, 0, 6, 8, 2, 4, 3, 8, 3, 5, 5,\n",
              "       7, 6, 4, 4, 9, 3, 1, 6, 0, 9, 0, 7, 8, 5, 0, 2, 5, 7, 1, 9, 1, 8,\n",
              "       0, 1, 7, 3, 1, 5, 9, 0, 6, 9, 8, 6, 7, 5, 6, 7, 0, 5, 6, 3, 4, 0,\n",
              "       4, 3, 4, 8, 2, 8, 2, 5, 5, 5, 8, 7, 9, 4, 3, 5, 2, 8, 5, 3, 8, 7,\n",
              "       7, 0, 2, 9, 9, 9, 1, 3, 0, 6, 0, 1, 9, 9, 3, 2, 9, 3, 2, 6, 4, 4,\n",
              "       6, 2, 5, 6, 6, 2, 0, 7, 1, 5, 0, 5, 2, 5, 2, 8, 0, 5, 4, 2, 2, 1,\n",
              "       4, 4], dtype=int64)"
            ]
          },
          "metadata": {
            "tags": []
          },
          "execution_count": 27
        }
      ]
    },
    {
      "cell_type": "markdown",
      "metadata": {
        "id": "aCTeWp8YD25y"
      },
      "source": [
        "## Accuracy Score"
      ]
    },
    {
      "cell_type": "code",
      "metadata": {
        "id": "SIcsURsBD25z",
        "outputId": "0186cf7a-eaac-43b9-b631-86f4c51a94ad"
      },
      "source": [
        "from sklearn import metrics\n",
        "\n",
        "print(\"Accuracy = \", metrics.accuracy_score(pred, y_test))"
      ],
      "execution_count": null,
      "outputs": [
        {
          "output_type": "stream",
          "text": [
            "Accuracy =  0.75\n"
          ],
          "name": "stdout"
        }
      ]
    },
    {
      "cell_type": "markdown",
      "metadata": {
        "id": "zVdqzT6pD25z"
      },
      "source": [
        "## Create prediction window"
      ]
    },
    {
      "cell_type": "code",
      "metadata": {
        "id": "nQ3ZbWLXD25z",
        "outputId": "17eeb6d0-c45b-4240-e257-e40feefb484e"
      },
      "source": [
        "\n",
        "model = joblib.load(\"model/digit_recognizer\")\n",
        "image_folder = \"img/\"\n",
        "\n",
        "while True :\n",
        "    img = ImageGrab.grab(bbox=(60, 170, 400, 500))\n",
        "    \n",
        "    img.save(image_folder+\"img.png\")\n",
        "    im = cv2.imread(image_folder+\"img.png\")\n",
        "    im_gray = cv2.cvtColor(im, cv2.COLOR_BGR2GRAY)\n",
        "    im_gray = cv2.GaussianBlur(im_gray, (15, 15), 0)\n",
        "    \n",
        "    ret, im_th = cv2.threshold(im_gray, 100, 255, cv2.THRESH_BINARY)\n",
        "    roi = cv2.resize(im_th, (28, 28), interpolation = cv2.INTER_AREA)\n",
        "    \n",
        "    rows, cols = roi.shape\n",
        "    X = []\n",
        "    \n",
        "    for i in range(rows):\n",
        "        for j in range(cols):\n",
        "            k = roi[i, j]\n",
        "            if k>100:\n",
        "                k = 1\n",
        "            else:\n",
        "                k = 0\n",
        "            X.append(k)\n",
        "            \n",
        "    predictions = model.predict([X])\n",
        "    print(\"Prediction:\", predictions[0])\n",
        "    cv2.putText(im, \"Prediction is : \"+str(predictions[0]), (20, 20), 0, 0.8, (0, 255, 0), 2, cv2.LINE_AA)\n",
        "    \n",
        "    cv2.startWindowThread()\n",
        "    cv2.namedWindow(\"Result\")\n",
        "    cv2.imshow(\"Result\", im)\n",
        "    cv2.waitKey(10000)\n",
        "    if cv2.waitKey(1)==13:\n",
        "        cv2.destroyAllWindows()\n",
        "        break\n",
        "\n",
        "cv2.destroyAllWindows()\n",
        "\n",
        "        \n",
        "    \n",
        "    "
      ],
      "execution_count": null,
      "outputs": [
        {
          "output_type": "stream",
          "text": [
            "Prediction: 8\n",
            "Prediction: 7\n",
            "Prediction: 3\n",
            "Prediction: 9\n",
            "Prediction: 2\n",
            "Prediction: 5\n",
            "Prediction: 8\n",
            "Prediction: 8\n",
            "Prediction: 8\n",
            "Prediction: 8\n",
            "Prediction: 8\n",
            "Prediction: 8\n",
            "Prediction: 0\n",
            "Prediction: 0\n",
            "Prediction: 0\n",
            "Prediction: 8\n",
            "Prediction: 8\n",
            "Prediction: 0\n",
            "Prediction: 0\n",
            "Prediction: 8\n",
            "Prediction: 8\n",
            "Prediction: 8\n",
            "Prediction: 8\n",
            "Prediction: 8\n",
            "Prediction: 8\n",
            "Prediction: 8\n",
            "Prediction: 8\n",
            "Prediction: 8\n",
            "Prediction: 8\n",
            "Prediction: 8\n",
            "Prediction: 8\n",
            "Prediction: 8\n",
            "Prediction: 8\n",
            "Prediction: 8\n",
            "Prediction: 8\n"
          ],
          "name": "stdout"
        }
      ]
    },
    {
      "cell_type": "markdown",
      "metadata": {
        "id": "TgKRcYkPD25z"
      },
      "source": [
        "## Conclusion"
      ]
    },
    {
      "cell_type": "markdown",
      "metadata": {
        "id": "gcRf8t2GD250"
      },
      "source": [
        "Using Handwriting Recognition model model can Recognize. It's can not Accurate beacuse it's depend on dataset sample. This model Acuuracy is  0.75 so we can this model 75 percent Acuuracy give us.  "
      ]
    },
    {
      "cell_type": "markdown",
      "metadata": {
        "id": "owMOxtRoD250"
      },
      "source": [
        "**Note**"
      ]
    },
    {
      "cell_type": "markdown",
      "metadata": {
        "id": "R0ygIw38D250"
      },
      "source": [
        "Model Acuuracy depend on dataset. You can try your image. Or You can add you more images. So you get more Accurate Result."
      ]
    }
  ]
}
